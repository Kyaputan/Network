{
 "cells": [
  {
   "cell_type": "code",
   "execution_count": 1,
   "metadata": {},
   "outputs": [],
   "source": [
    "import mysql.connector\n",
    "import os\n",
    "from loadex05 import load_env_ex05"
   ]
  },
  {
   "cell_type": "code",
   "execution_count": 2,
   "metadata": {},
   "outputs": [],
   "source": [
    "db_host , db_user , db_password = load_env_ex05()"
   ]
  },
  {
   "cell_type": "code",
   "execution_count": 17,
   "metadata": {},
   "outputs": [],
   "source": [
    "try:\n",
    "    mydb = mysql.connector.connect(\n",
    "    host=db_host,\n",
    "    user=db_user,\n",
    "    password=db_password,\n",
    "    database='test'\n",
    "    )  \n",
    "except mysql.connector.Error as err:\n",
    "    print(f\"Error: {err}\")"
   ]
  },
  {
   "cell_type": "code",
   "execution_count": 21,
   "metadata": {},
   "outputs": [
    {
     "name": "stdout",
     "output_type": "stream",
     "text": [
      "{'ID': 3, 'Name': 'Bangkok', 'Detail': 'Capital city and economic center of Thailand', 'Date': datetime.date(2025, 4, 13)}\n",
      "{'ID': 4, 'Name': 'Chiang Mai', 'Detail': 'Northern province with nature and Lanna culture', 'Date': datetime.date(2025, 4, 7)}\n",
      "{'ID': 5, 'Name': 'Phuket', 'Detail': 'Tourist destination with beaches and islands', 'Date': datetime.date(2025, 4, 10)}\n",
      "{'ID': 6, 'Name': 'Ayutthaya', 'Detail': 'Historic city with ancient temples and ruins', 'Date': datetime.date(2025, 4, 9)}\n",
      "{'ID': 7, 'Name': 'Khon Kaen', 'Detail': 'Major city in northeastern Thailand', 'Date': datetime.date(2025, 4, 7)}\n",
      "{'ID': 8, 'Name': 'Nakhon Ratchasima', 'Detail': 'Large province known as Korat', 'Date': datetime.date(2025, 4, 7)}\n",
      "{'ID': 9, 'Name': 'Songkhla', 'Detail': 'Southern city with beaches and a large lake', 'Date': datetime.date(2025, 3, 10)}\n",
      "{'ID': 10, 'Name': 'Lampang', 'Detail': 'Northern city with horses and heritage sites', 'Date': datetime.date(2025, 2, 10)}\n"
     ]
    }
   ],
   "source": [
    "mycursor = mydb.cursor(dictionary=True)\n",
    "sql = \"select * FROM City;\"\n",
    "mycursor.execute(sql)\n",
    "myresult = mycursor.fetchall()\n",
    "for x in myresult:\n",
    "    print(x)"
   ]
  }
 ],
 "metadata": {
  "kernelspec": {
   "display_name": "base",
   "language": "python",
   "name": "python3"
  },
  "language_info": {
   "codemirror_mode": {
    "name": "ipython",
    "version": 3
   },
   "file_extension": ".py",
   "mimetype": "text/x-python",
   "name": "python",
   "nbconvert_exporter": "python",
   "pygments_lexer": "ipython3",
   "version": "3.12.7"
  }
 },
 "nbformat": 4,
 "nbformat_minor": 2
}
