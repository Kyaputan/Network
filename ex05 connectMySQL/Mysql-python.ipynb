{
 "cells": [
  {
   "cell_type": "code",
   "execution_count": 8,
   "metadata": {},
   "outputs": [],
   "source": [
    "import mysql.connector\n",
    "import os\n",
    "from loadex05 import load_env_ex05"
   ]
  },
  {
   "cell_type": "code",
   "execution_count": 9,
   "metadata": {},
   "outputs": [],
   "source": [
    "db_host , db_user , db_password = load_env_ex05()"
   ]
  },
  {
   "cell_type": "code",
   "execution_count": 15,
   "metadata": {},
   "outputs": [],
   "source": [
    "try:\n",
    "    mydb = mysql.connector.connect(\n",
    "    host=db_host,\n",
    "    user=db_user,\n",
    "    password=db_password,\n",
    "    database='My_DB',\n",
    "    port=3306\n",
    "    )  \n",
    "except mysql.connector.Error as err:\n",
    "    print(f\"Error: {err}\")"
   ]
  },
  {
   "cell_type": "code",
   "execution_count": 24,
   "metadata": {},
   "outputs": [
    {
     "name": "stdout",
     "output_type": "stream",
     "text": [
      "{'CustomerID': 1, 'Name': 'Somchai Jaidee', 'Address': '123 Sukhumvit Rd', 'City': 'Bangkok', 'PostalCode': '10260'}\n",
      "{'CustomerID': 2, 'Name': 'Orathai Panich', 'Address': '45/3 Moo 5, Nai Mueang', 'City': 'Khon Kaen', 'PostalCode': '40000'}\n",
      "{'CustomerID': 3, 'Name': 'Wichai Srithong', 'Address': '789 Pracha Uthit Rd', 'City': 'Bangkok', 'PostalCode': '10140'}\n",
      "{'CustomerID': 4, 'Name': 'Kamonwan Thepthai', 'Address': '10/1 Soi Ladprao 80', 'City': 'Bangkok', 'PostalCode': '10310'}\n",
      "{'CustomerID': 5, 'Name': 'Porntep Khamdee', 'Address': '55 Moo 2, Tha Wang', 'City': 'Nakhon Si Thammarat', 'PostalCode': '80000'}\n",
      "{'CustomerID': 6, 'Name': 'Maneerat Wongthong', 'Address': '202 Huay Kaew Rd', 'City': 'Chiang Mai', 'PostalCode': '50200'}\n",
      "{'CustomerID': 7, 'Name': 'Kriangsak Jaikla', 'Address': '33 Moo 1, Bang Pla', 'City': 'Samut Prakan', 'PostalCode': '10540'}\n",
      "{'CustomerID': 8, 'Name': 'Nipaporn Rakrian', 'Address': '12/7 Mittraphap Rd', 'City': 'Nakhon Ratchasima', 'PostalCode': '30000'}\n",
      "{'CustomerID': 9, 'Name': 'Chaiwat Mangmee', 'Address': '456 Ratchadamnoen Klang Rd', 'City': 'Bangkok', 'PostalCode': '10200'}\n",
      "{'CustomerID': 10, 'Name': 'Wanna Thongsuk', 'Address': '87 Phahonyothin Rd', 'City': 'Bangkok', 'PostalCode': '10900'}\n",
      "{'CustomerID': 11, 'Name': 'Siriporn Meesuk', 'Address': '78 Moo 3, Nong Bua', 'City': 'Udon Thani', 'PostalCode': '41000'}\n",
      "{'CustomerID': 12, 'Name': 'Nattapon Pendee', 'Address': '123 Ratchaphruek Rd', 'City': 'Bangkok', 'PostalCode': '10170'}\n",
      "{'CustomerID': 13, 'Name': 'Cholticha Saisod', 'Address': '99 Moo 4, Pa Daet', 'City': 'Chiang Rai', 'PostalCode': '57000'}\n",
      "{'CustomerID': 14, 'Name': 'Phongsakorn Rattanapaiboon', 'Address': '199 Charoen Krung Rd', 'City': 'Bangkok', 'PostalCode': '10500'}\n",
      "{'CustomerID': 15, 'Name': 'Supatsara Boonlert', 'Address': '321 Si Ayutthaya Rd', 'City': 'Bangkok', 'PostalCode': '10300'}\n",
      "{'CustomerID': 16, 'Name': 'Anucha Khongman', 'Address': '12 Moo 5, Tha Sala', 'City': 'Lopburi', 'PostalCode': '15000'}\n",
      "{'CustomerID': 17, 'Name': 'Rattana Kaewsai', 'Address': '77 Moo 9, Bang Khen', 'City': 'Bangkok', 'PostalCode': '10220'}\n",
      "{'CustomerID': 18, 'Name': 'Pitchaya Thanatorn', 'Address': '23 Bangna-Trad Rd', 'City': 'Bangkok', 'PostalCode': '10260'}\n",
      "{'CustomerID': 19, 'Name': 'Teeraphat Boonmak', 'Address': '888 Rama 2 Rd', 'City': 'Bangkok', 'PostalCode': '10150'}\n",
      "{'CustomerID': 20, 'Name': 'Jiraporn Somjit', 'Address': '66/1 Kanchanaphisek Rd', 'City': 'Bangkok', 'PostalCode': '10160'}\n"
     ]
    }
   ],
   "source": [
    "mycursor = mydb.cursor(dictionary=True)\n",
    "sql = \"SELECT * FROM Customers;\"\n",
    "mycursor.execute(sql)\n",
    "myresult = mycursor.fetchall()\n",
    "for x in myresult:\n",
    "    print(x)"
   ]
  }
 ],
 "metadata": {
  "kernelspec": {
   "display_name": "base",
   "language": "python",
   "name": "python3"
  },
  "language_info": {
   "codemirror_mode": {
    "name": "ipython",
    "version": 3
   },
   "file_extension": ".py",
   "mimetype": "text/x-python",
   "name": "python",
   "nbconvert_exporter": "python",
   "pygments_lexer": "ipython3",
   "version": "3.12.7"
  }
 },
 "nbformat": 4,
 "nbformat_minor": 2
}
